{
 "cells": [
  {
   "cell_type": "code",
   "execution_count": 13,
   "id": "c4e8c452",
   "metadata": {},
   "outputs": [
    {
     "name": "stdout",
     "output_type": "stream",
     "text": [
      "Enter Player name 1:asdf\n",
      "Enter Player name 2:asas\n",
      "Enter Player 1 Choice:water\n",
      "Enter Player 2 Choice:snake\n",
      "asas with choice snake wins\n"
     ]
    }
   ],
   "source": [
    "player1=input(\"Enter Player name 1:\")\n",
    "player2=input(\"Enter Player name 2:\")\n",
    "choice=['snake','gun','water']\n",
    "choice1=input(\"Enter Player 1 Choice:\").lower()\n",
    "choice2=input(\"Enter Player 2 Choice:\").lower()\n",
    "def swg():\n",
    "    if(choice1 not in choice or choice2 not in choice ):\n",
    "        print(\"wrong choice\")   \n",
    "    elif(choice1==choice2):\n",
    "        print(\"Tie\")\n",
    "    elif(choice1==\"snake\"):\n",
    "        if(choice2==\"water\"):\n",
    "            return 1\n",
    "        else:\n",
    "            return 2\n",
    "    elif(choice1==\"water\"):\n",
    "        if(choice2==\"gun\"):\n",
    "            return 1\n",
    "        else:\n",
    "            return 2\n",
    "    elif(choice1==\"gun\"):\n",
    "        if(choice2==\"snake\"):\n",
    "            return 1\n",
    "        else:\n",
    "            return 2\n",
    "p1=swg()\n",
    "if(p1==1):\n",
    "    print(player1, \"with choice\",choice1,\"wins\")   \n",
    "elif(p1==2):\n",
    "    print(player2, \"with choice\",choice2,\"wins\")\n"
   ]
  },
  {
   "cell_type": "code",
   "execution_count": null,
   "id": "726030cb",
   "metadata": {},
   "outputs": [],
   "source": []
  },
  {
   "cell_type": "code",
   "execution_count": null,
   "id": "c02aa8a9",
   "metadata": {},
   "outputs": [],
   "source": []
  }
 ],
 "metadata": {
  "kernelspec": {
   "display_name": "Python 3 (ipykernel)",
   "language": "python",
   "name": "python3"
  },
  "language_info": {
   "codemirror_mode": {
    "name": "ipython",
    "version": 3
   },
   "file_extension": ".py",
   "mimetype": "text/x-python",
   "name": "python",
   "nbconvert_exporter": "python",
   "pygments_lexer": "ipython3",
   "version": "3.9.12"
  }
 },
 "nbformat": 4,
 "nbformat_minor": 5
}
